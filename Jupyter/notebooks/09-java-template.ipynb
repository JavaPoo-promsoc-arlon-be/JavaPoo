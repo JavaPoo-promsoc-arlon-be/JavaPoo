{
 "cells": [
  {
   "cell_type": "markdown",
   "id": "focal-springfield",
   "metadata": {},
   "source": [
    "# Template in Java"
   ]
  },
  {
   "cell_type": "markdown",
   "id": "duplicate-dimension",
   "metadata": {},
   "source": [
    "## Introduction\n",
    "L'objectif de ce notebook est de réaliser une synthèse concernant l'utilisation des template dans Java.\n",
    "\n",
    "La théorie nous apprend:\n",
    "1. Il est possible de fournir un type en guise de template à une collection.\n",
    "2. Utiliser ce type diminue l'utilisation du cast.\n",
    "\n",
    "### Exemple de l'ArrayList"
   ]
  },
  {
   "cell_type": "markdown",
   "id": "occupied-adelaide",
   "metadata": {},
   "source": [
    "## ArrayList avec template"
   ]
  },
  {
   "cell_type": "markdown",
   "id": "underlying-extraction",
   "metadata": {},
   "source": [
    "1. Définir une classe A "
   ]
  },
  {
   "cell_type": "code",
   "execution_count": 5,
   "id": "bearing-candidate",
   "metadata": {},
   "outputs": [],
   "source": [
    "class A {\n",
    "    String x;\n",
    "}"
   ]
  },
  {
   "cell_type": "markdown",
   "id": "documented-tyler",
   "metadata": {},
   "source": [
    "2. Définir un arrayList appellé myArray\n",
    "3. Utiliser le type A comme template \n"
   ]
  },
  {
   "cell_type": "code",
   "execution_count": 12,
   "id": "generous-large",
   "metadata": {},
   "outputs": [],
   "source": [
    "ArrayList<A> myArray = new ArrayList<A>();"
   ]
  },
  {
   "cell_type": "markdown",
   "id": "steady-requirement",
   "metadata": {},
   "source": [
    "4. Ajouter un objet A dans la liste myArray."
   ]
  },
  {
   "cell_type": "code",
   "execution_count": 13,
   "id": "solid-button",
   "metadata": {},
   "outputs": [
    {
     "name": "stdout",
     "output_type": "stream",
     "text": [
      "REPL.$JShell$13$A@5883c896\n"
     ]
    },
    {
     "data": {
      "text/plain": [
       "true"
      ]
     },
     "execution_count": 13,
     "metadata": {},
     "output_type": "execute_result"
    }
   ],
   "source": [
    "A a = new A();\n",
    "System.out.println(a);\n",
    "myArray.add(a);"
   ]
  },
  {
   "cell_type": "markdown",
   "id": "essential-neutral",
   "metadata": {},
   "source": [
    "5. Imprimer la taille de la liste."
   ]
  },
  {
   "cell_type": "code",
   "execution_count": 14,
   "id": "baking-nation",
   "metadata": {},
   "outputs": [
    {
     "name": "stdout",
     "output_type": "stream",
     "text": [
      "1\n"
     ]
    }
   ],
   "source": [
    "System.out.println(myArray.size());"
   ]
  },
  {
   "cell_type": "markdown",
   "id": "impressive-halifax",
   "metadata": {},
   "source": [
    "6. Récupérer l'objet"
   ]
  },
  {
   "cell_type": "code",
   "execution_count": 17,
   "id": "together-might",
   "metadata": {},
   "outputs": [
    {
     "name": "stdout",
     "output_type": "stream",
     "text": [
      "REPL.$JShell$13$A@5883c896\n"
     ]
    }
   ],
   "source": [
    "A x = myArray.remove(0);\n",
    "System.out.println(a);"
   ]
  },
  {
   "cell_type": "markdown",
   "id": "opposite-peeing",
   "metadata": {},
   "source": [
    "7. Imprimer la taille de la liste."
   ]
  },
  {
   "cell_type": "code",
   "execution_count": 18,
   "id": "convenient-reggae",
   "metadata": {},
   "outputs": [
    {
     "name": "stdout",
     "output_type": "stream",
     "text": [
      "0\n"
     ]
    }
   ],
   "source": [
    "System.out.println(myArray.size());"
   ]
  },
  {
   "cell_type": "markdown",
   "id": "checked-outside",
   "metadata": {},
   "source": [
    "Imprimer le type de l'objet récupéré"
   ]
  },
  {
   "cell_type": "code",
   "execution_count": 19,
   "id": "changed-survivor",
   "metadata": {},
   "outputs": [
    {
     "name": "stdout",
     "output_type": "stream",
     "text": [
      "class REPL.$JShell$13$A\n"
     ]
    }
   ],
   "source": [
    "System.out.println(a.getClass());"
   ]
  },
  {
   "cell_type": "markdown",
   "id": "comic-standard",
   "metadata": {},
   "source": [
    "## ArrayList sans template"
   ]
  },
  {
   "cell_type": "code",
   "execution_count": 21,
   "id": "partial-creature",
   "metadata": {},
   "outputs": [],
   "source": [
    "class A {\n",
    "    String x;\n",
    "}"
   ]
  },
  {
   "cell_type": "markdown",
   "id": "south-edmonton",
   "metadata": {},
   "source": [
    "2. Définir un arrayList appellé myArray\n",
    "3. Ne pas utiliser de template. <br/>\n",
    "Dans ce cas, la liste contient des objets de type \"Object\"\n"
   ]
  },
  {
   "cell_type": "code",
   "execution_count": 23,
   "id": "exceptional-agency",
   "metadata": {},
   "outputs": [],
   "source": [
    "ArrayList myArray = new ArrayList();"
   ]
  },
  {
   "cell_type": "markdown",
   "id": "banner-pulse",
   "metadata": {},
   "source": [
    "4. Ajouter un objet A dans la liste myArray."
   ]
  },
  {
   "cell_type": "code",
   "execution_count": 24,
   "id": "acquired-reading",
   "metadata": {},
   "outputs": [
    {
     "name": "stdout",
     "output_type": "stream",
     "text": [
      "REPL.$JShell$13$A@770e9c95\n"
     ]
    },
    {
     "data": {
      "text/plain": [
       "true"
      ]
     },
     "execution_count": 24,
     "metadata": {},
     "output_type": "execute_result"
    }
   ],
   "source": [
    "A a = new A();\n",
    "System.out.println(a);\n",
    "myArray.add(a);"
   ]
  },
  {
   "cell_type": "markdown",
   "id": "mounted-amateur",
   "metadata": {},
   "source": [
    "5. Imprimer la taille de la liste."
   ]
  },
  {
   "cell_type": "code",
   "execution_count": 25,
   "id": "moderate-tamil",
   "metadata": {},
   "outputs": [
    {
     "name": "stdout",
     "output_type": "stream",
     "text": [
      "1\n"
     ]
    }
   ],
   "source": [
    "System.out.println(myArray.size());"
   ]
  },
  {
   "cell_type": "markdown",
   "id": "explicit-belle",
   "metadata": {},
   "source": [
    "6. Récupérer l'objet"
   ]
  },
  {
   "cell_type": "code",
   "execution_count": 26,
   "id": "analyzed-script",
   "metadata": {},
   "outputs": [
    {
     "ename": "CompilationException",
     "evalue": "",
     "output_type": "error",
     "traceback": [
      "\u001b[1m\u001b[30m|   \u001b[1m\u001b[30mA x = \u001b[0m\u001b[1m\u001b[30m\u001b[41mmyArray.remove(0)\u001b[0m\u001b[1m\u001b[30m;\u001b[0m",
      "\u001b[1m\u001b[31mincompatible types: java.lang.Object cannot be converted to A\u001b[0m",
      ""
     ]
    }
   ],
   "source": [
    "A x = myArray.remove(0);\n",
    "System.out.println(a);"
   ]
  },
  {
   "cell_type": "markdown",
   "id": "dangerous-course",
   "metadata": {},
   "source": [
    "Le message\n",
    "\n",
    "    incompatible types: java.lang.Object cannot be converted to A\n",
    "    \n",
    "indique que la valeur de retour de la méthode remove n'est pas compatible avec ce qui est à droite de l'=, a savoir un A."
   ]
  },
  {
   "cell_type": "markdown",
   "id": "unique-interpretation",
   "metadata": {},
   "source": [
    "7. Ajouter le cast"
   ]
  },
  {
   "cell_type": "code",
   "execution_count": 28,
   "id": "returning-virtue",
   "metadata": {},
   "outputs": [
    {
     "name": "stdout",
     "output_type": "stream",
     "text": [
      "REPL.$JShell$13$A@770e9c95\n"
     ]
    }
   ],
   "source": [
    "A x = (A)myArray.remove(0);\n",
    "System.out.println(a);"
   ]
  },
  {
   "cell_type": "markdown",
   "id": "nearby-partnership",
   "metadata": {},
   "source": [
    "8. Imprimer la taille de la liste."
   ]
  },
  {
   "cell_type": "code",
   "execution_count": 29,
   "id": "personalized-victor",
   "metadata": {},
   "outputs": [
    {
     "name": "stdout",
     "output_type": "stream",
     "text": [
      "0\n"
     ]
    }
   ],
   "source": [
    "System.out.println(myArray.size());"
   ]
  },
  {
   "cell_type": "markdown",
   "id": "corresponding-library",
   "metadata": {},
   "source": [
    "9. Imprimer le type de l'objet récupéré"
   ]
  },
  {
   "cell_type": "code",
   "execution_count": 30,
   "id": "viral-tonight",
   "metadata": {},
   "outputs": [
    {
     "name": "stdout",
     "output_type": "stream",
     "text": [
      "class REPL.$JShell$13$A\n"
     ]
    }
   ],
   "source": [
    "System.out.println(a.getClass());"
   ]
  },
  {
   "cell_type": "markdown",
   "id": "exciting-shark",
   "metadata": {},
   "source": [
    "### Puis-ajouter autre chose qu'un A dans myArray ?"
   ]
  },
  {
   "cell_type": "code",
   "execution_count": 33,
   "id": "present-feelings",
   "metadata": {},
   "outputs": [
    {
     "name": "stdout",
     "output_type": "stream",
     "text": [
      "REPL.$JShell$43$C@2a4a1607\n",
      "1\n",
      "REPL.$JShell$43$C@2a4a1607\n"
     ]
    }
   ],
   "source": [
    "class C {\n",
    "}\n",
    "\n",
    "C c = new C();\n",
    "System.out.println(c);\n",
    "myArray.add(c);\n",
    "System.out.println(myArray.size());\n",
    "C x = (C)myArray.remove(0);\n",
    "System.out.println(c);"
   ]
  },
  {
   "cell_type": "markdown",
   "id": "given-drama",
   "metadata": {},
   "source": [
    "## En conclusion\n",
    "1. Utiliser le templating est une bonne chose.\n",
    "2. Le templating diminue l'obligation de devoir caster.\n",
    "3. Le templating augmente la sécurité par rapport au contenu de la liste, car la liste ne peut contenir que des instances du type fourni comme template.\n"
   ]
  },
  {
   "cell_type": "code",
   "execution_count": null,
   "id": "suspected-custody",
   "metadata": {},
   "outputs": [],
   "source": []
  }
 ],
 "metadata": {
  "kernelspec": {
   "display_name": "Java",
   "language": "java",
   "name": "java"
  },
  "language_info": {
   "codemirror_mode": "java",
   "file_extension": ".jshell",
   "mimetype": "text/x-java-source",
   "name": "Java",
   "pygments_lexer": "java",
   "version": "11.0.9.1+1-post-Debian-1deb10u2"
  }
 },
 "nbformat": 4,
 "nbformat_minor": 5
}
