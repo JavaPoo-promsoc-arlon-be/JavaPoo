{
 "cells": [
  {
   "cell_type": "markdown",
   "id": "focal-springfield",
   "metadata": {},
   "source": [
    "# Java attribute"
   ]
  },
  {
   "cell_type": "markdown",
   "id": "duplicate-dimension",
   "metadata": {},
   "source": [
    "### Créer une classe avec un attribut appellé \"a\" et de type String\n",
    "Charactéristique de l'attribut:\n",
    "1. L'attribut est propre à l'object. Celui-ci est une instance d'une classe.\n",
    "1. Un attribut est une référence vers un autre objet.\n",
    "\n"
   ]
  },
  {
   "cell_type": "code",
   "execution_count": 20,
   "id": "polar-broad",
   "metadata": {},
   "outputs": [],
   "source": [
    "class MyClass {\n",
    "     String a;\n",
    "}"
   ]
  },
  {
   "cell_type": "markdown",
   "id": "upset-underground",
   "metadata": {},
   "source": [
    "### Définir une variable temporaire\n",
    "Définir une variable temporaire appelée mc, de type MyClass.\n",
    "\n",
    "Dans un programme Java une variable temporaire est définie dans une méthode. La méthode main est la plus connue, car c'est celle qui est exécutée lorsqu'on exécute une application Java.\n"
   ]
  },
  {
   "cell_type": "code",
   "execution_count": 2,
   "id": "valuable-standing",
   "metadata": {},
   "outputs": [],
   "source": [
    "MyClass mc;"
   ]
  },
  {
   "cell_type": "markdown",
   "id": "clinical-thong",
   "metadata": {},
   "source": [
    "### Instancier une classe\n",
    "1. Le mot clé new permet d'instancier une classe.\n",
    "1. Le constructeur de la classe est appelée et l'identifiant de l'objet est retourné comme valeur de retour."
   ]
  },
  {
   "cell_type": "code",
   "execution_count": 18,
   "id": "dutch-cardiff",
   "metadata": {},
   "outputs": [
    {
     "data": {
      "text/plain": [
       "REPL.$JShell$12E$MyClass@45bc990a"
      ]
     },
     "execution_count": 18,
     "metadata": {},
     "output_type": "execute_result"
    }
   ],
   "source": [
    "new MyClass();"
   ]
  },
  {
   "cell_type": "markdown",
   "id": "aboriginal-focus",
   "metadata": {},
   "source": [
    "### Un objet existe dans la machine virtuelle tant que l'objet est référencé, à savoir:\n",
    "- son adresse est affectée à une variable et conservé dans cette variable"
   ]
  },
  {
   "cell_type": "code",
   "execution_count": 16,
   "id": "dynamic-substitute",
   "metadata": {},
   "outputs": [],
   "source": [
    "MyClass mc = new MyClass();"
   ]
  },
  {
   "cell_type": "markdown",
   "id": "alien-architect",
   "metadata": {},
   "source": [
    "### Donner une valeur à l'attribut\n"
   ]
  },
  {
   "cell_type": "code",
   "execution_count": 17,
   "id": "false-knife",
   "metadata": {},
   "outputs": [
    {
     "data": {
      "text/plain": [
       "Hello World !"
      ]
     },
     "execution_count": 17,
     "metadata": {},
     "output_type": "execute_result"
    }
   ],
   "source": [
    "mc.a = \"Hello World !\";\n"
   ]
  },
  {
   "cell_type": "markdown",
   "id": "optional-advice",
   "metadata": {},
   "source": [
    "Imprimer le contenu de l'attribut a."
   ]
  },
  {
   "cell_type": "code",
   "execution_count": 19,
   "id": "iraqi-shopper",
   "metadata": {},
   "outputs": [
    {
     "name": "stdout",
     "output_type": "stream",
     "text": [
      "Hello World !\n"
     ]
    }
   ],
   "source": [
    "System.out.println(mc.a);"
   ]
  },
  {
   "cell_type": "markdown",
   "id": "grave-burns",
   "metadata": {},
   "source": [
    "### Code complet\n",
    "Pour executer une application, il faut exécuter dans un shell ou command prompt:\n",
    "\n",
    "    java MyClass"
   ]
  },
  {
   "cell_type": "code",
   "execution_count": 23,
   "id": "reduced-membrane",
   "metadata": {},
   "outputs": [
    {
     "name": "stdout",
     "output_type": "stream",
     "text": [
      "Hello World !\n"
     ]
    }
   ],
   "source": [
    "class MyClass {\n",
    "     String a;\n",
    "     public static void main() {\n",
    "         MyClass mc = new MyClass();\n",
    "         mc.a = \"Hello World !\";\n",
    "         System.out.println(mc.a);\n",
    "     }\n",
    "}\n",
    "\n",
    "MyClass.main();"
   ]
  },
  {
   "cell_type": "code",
   "execution_count": null,
   "id": "computational-tenant",
   "metadata": {},
   "outputs": [],
   "source": []
  }
 ],
 "metadata": {
  "kernelspec": {
   "display_name": "Java",
   "language": "java",
   "name": "java"
  },
  "language_info": {
   "codemirror_mode": "java",
   "file_extension": ".jshell",
   "mimetype": "text/x-java-source",
   "name": "Java",
   "pygments_lexer": "java",
   "version": "11.0.9.1+1-post-Debian-1deb10u2"
  }
 },
 "nbformat": 4,
 "nbformat_minor": 5
}
