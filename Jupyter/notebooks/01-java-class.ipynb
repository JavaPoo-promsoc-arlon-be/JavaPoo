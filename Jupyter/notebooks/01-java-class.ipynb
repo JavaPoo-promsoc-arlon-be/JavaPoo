{
 "cells": [
  {
   "cell_type": "markdown",
   "id": "focal-springfield",
   "metadata": {},
   "source": [
    "# Java class"
   ]
  },
  {
   "cell_type": "markdown",
   "id": "duplicate-dimension",
   "metadata": {},
   "source": [
    "Créer une classe"
   ]
  },
  {
   "cell_type": "code",
   "execution_count": 1,
   "id": "polar-broad",
   "metadata": {},
   "outputs": [],
   "source": [
    "class MyClass {\n",
    "\n",
    "}"
   ]
  },
  {
   "cell_type": "markdown",
   "id": "upset-underground",
   "metadata": {},
   "source": [
    "### Définir une variable temporaire\n",
    "Définir une variable temporaire appelée mc, de type MyClass.\n",
    "\n",
    "Dans un programme Java une variable temporaire est définie dans une méthode. La méthode main est la plus connue, car c'est celle qui est exécutée lorsqu'on exécute une application Java.\n"
   ]
  },
  {
   "cell_type": "code",
   "execution_count": 2,
   "id": "valuable-standing",
   "metadata": {},
   "outputs": [],
   "source": [
    "MyClass mc;"
   ]
  },
  {
   "cell_type": "markdown",
   "id": "clinical-thong",
   "metadata": {},
   "source": [
    "### Instancier une classe\n",
    "1. Le mot clé new permet d'instancier une classe.\n",
    "1. Le constructeur de la classe est appelée et l'identifiant de l'objet est retourné comme valeur de retour."
   ]
  },
  {
   "cell_type": "code",
   "execution_count": null,
   "id": "dutch-cardiff",
   "metadata": {},
   "outputs": [],
   "source": [
    "new MyClass();"
   ]
  },
  {
   "cell_type": "markdown",
   "id": "aboriginal-focus",
   "metadata": {},
   "source": [
    "### Un objet existe dans la machine virtuelle tant que l'objet est référencé, à savoir:\n",
    "- son adresse est affectée à une variable et conservé dans cette variable"
   ]
  },
  {
   "cell_type": "code",
   "execution_count": 6,
   "id": "dynamic-substitute",
   "metadata": {},
   "outputs": [],
   "source": [
    "MyClass mc = new MyClass();"
   ]
  },
  {
   "cell_type": "markdown",
   "id": "connected-arizona",
   "metadata": {},
   "source": [
    "### Imprimer l'id de l'objet\n",
    "- Ne pas tenir compte de REPL.\\\\$JShell\\\\$.*\n",
    "- Exaple: MyClass@5b687399"
   ]
  },
  {
   "cell_type": "code",
   "execution_count": 9,
   "id": "casual-night",
   "metadata": {
    "scrolled": true
   },
   "outputs": [
    {
     "name": "stdout",
     "output_type": "stream",
     "text": [
      "REPL.$JShell$12C$MyClass@5b687399\n"
     ]
    }
   ],
   "source": [
    "System.out.println(mc);"
   ]
  },
  {
   "cell_type": "code",
   "execution_count": 12,
   "id": "false-knife",
   "metadata": {},
   "outputs": [],
   "source": [
    "class MyClass {\n",
    "     int a=5;\n",
    "}"
   ]
  },
  {
   "cell_type": "code",
   "execution_count": 11,
   "id": "charged-parent",
   "metadata": {
    "scrolled": true
   },
   "outputs": [],
   "source": [
    "MyClass mc = new MyClass();"
   ]
  },
  {
   "cell_type": "code",
   "execution_count": 13,
   "id": "iraqi-shopper",
   "metadata": {},
   "outputs": [
    {
     "name": "stdout",
     "output_type": "stream",
     "text": [
      "5\n"
     ]
    }
   ],
   "source": [
    "System.out.println(mc.a);"
   ]
  }
 ],
 "metadata": {
  "kernelspec": {
   "display_name": "Java",
   "language": "java",
   "name": "java"
  },
  "language_info": {
   "codemirror_mode": "java",
   "file_extension": ".jshell",
   "mimetype": "text/x-java-source",
   "name": "Java",
   "pygments_lexer": "java",
   "version": "11.0.9.1+1-post-Debian-1deb10u2"
  }
 },
 "nbformat": 4,
 "nbformat_minor": 5
}
