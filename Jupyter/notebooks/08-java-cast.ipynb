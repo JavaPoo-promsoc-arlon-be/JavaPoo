{
 "cells": [
  {
   "cell_type": "markdown",
   "id": "focal-springfield",
   "metadata": {},
   "source": [
    "# Cast in Java"
   ]
  },
  {
   "cell_type": "markdown",
   "id": "duplicate-dimension",
   "metadata": {},
   "source": [
    "## Introduction\n",
    "L'objectif de ce notebook est de réaliser une synthèse concernant l'utilisation du \"cast\" dans Java.\n",
    "\n",
    "La théorie nous apprend:\n",
    "1. Le cast est le transtypage.\n",
    "\n",
    "### Il faut distinguer les types de base: int, double, char ...\n",
    "1. Le cast est nécessaire en cas de \"perte de donnée\" ou de \"précision\" dans une affectation.\n",
    "2. Le cast n'est pas nécessaire dans une affectation si il n'y a aucune  \"perte de donnée\" ou de \"précision\".\n",
    "\n",
    "### Et les classes:\n",
    "1. Le cast est nécessaire, sauf si on affecte vers une super classe."
   ]
  },
  {
   "cell_type": "code",
   "execution_count": 6,
   "id": "linear-lyric",
   "metadata": {},
   "outputs": [
    {
     "name": "stdout",
     "output_type": "stream",
     "text": [
      "32\n"
     ]
    }
   ],
   "source": [
    "int i = 32;\n",
    "System.out.println(i);"
   ]
  },
  {
   "cell_type": "markdown",
   "id": "appointed-links",
   "metadata": {},
   "source": [
    "## Type de base"
   ]
  },
  {
   "cell_type": "markdown",
   "id": "another-lying",
   "metadata": {},
   "source": [
    "### Pas de perte de donnée"
   ]
  },
  {
   "cell_type": "code",
   "execution_count": 7,
   "id": "cultural-angola",
   "metadata": {},
   "outputs": [
    {
     "name": "stdout",
     "output_type": "stream",
     "text": [
      "32.0\n"
     ]
    }
   ],
   "source": [
    "double d = i;\n",
    "System.out.println(d);"
   ]
  },
  {
   "cell_type": "markdown",
   "id": "alive-philosophy",
   "metadata": {},
   "source": [
    "### Perte de donnée"
   ]
  },
  {
   "cell_type": "markdown",
   "id": "incorrect-cooperative",
   "metadata": {},
   "source": [
    "1. Le compilateur empêche la perte de donnée"
   ]
  },
  {
   "cell_type": "code",
   "execution_count": 12,
   "id": "selected-release",
   "metadata": {},
   "outputs": [
    {
     "ename": "CompilationException",
     "evalue": "",
     "output_type": "error",
     "traceback": [
      "\u001b[1m\u001b[30m|   \u001b[1m\u001b[30mint j = \u001b[0m\u001b[1m\u001b[30m\u001b[41md\u001b[0m\u001b[1m\u001b[30m;\u001b[0m",
      "\u001b[1m\u001b[31mincompatible types: possible lossy conversion from double to int\u001b[0m",
      ""
     ]
    }
   ],
   "source": [
    "double d = 55.0;\n",
    "int j = d;\n",
    "System.out.println(j);"
   ]
  },
  {
   "cell_type": "markdown",
   "id": "rising-lucas",
   "metadata": {},
   "source": [
    "Le message\n",
    "\n",
    "    incompatible types: possible lossy conversion from double to int\n",
    "    \n",
    "indique une potentielle perte de donnée."
   ]
  },
  {
   "cell_type": "markdown",
   "id": "patent-northern",
   "metadata": {},
   "source": [
    "2. Caster signale au compilateur que la perte de donnée est voulue. <br/>Ici, on abandonne ce qui est après la virgule."
   ]
  },
  {
   "cell_type": "code",
   "execution_count": 14,
   "id": "moral-revision",
   "metadata": {},
   "outputs": [
    {
     "name": "stdout",
     "output_type": "stream",
     "text": [
      "55\n"
     ]
    }
   ],
   "source": [
    "double d = 55.0;\n",
    "int j = (int)d;\n",
    "System.out.println(j);"
   ]
  },
  {
   "cell_type": "markdown",
   "id": "drawn-effects",
   "metadata": {},
   "source": [
    "## Classe"
   ]
  },
  {
   "cell_type": "markdown",
   "id": "level-sponsorship",
   "metadata": {},
   "source": [
    "On peut caster d'une classe vers une autre, mais uniquement si elles sont dans la même ligne d'héritage ...\n",
    "1. A hérite de B \n",
    "2. B hérite de A"
   ]
  },
  {
   "cell_type": "markdown",
   "id": "naughty-density",
   "metadata": {},
   "source": [
    "### Définir une classe, une variable temporaire et instancier un objet de la classe"
   ]
  },
  {
   "cell_type": "code",
   "execution_count": 35,
   "id": "compatible-biodiversity",
   "metadata": {},
   "outputs": [
    {
     "name": "stdout",
     "output_type": "stream",
     "text": [
      "REPL.$JShell$27$MyClass@5b6fe630\n"
     ]
    }
   ],
   "source": [
    "class MyClass {\n",
    "\n",
    "}\n",
    "\n",
    "MyClass mc = new MyClass();\n",
    "\n",
    "System.out.println(mc);"
   ]
  },
  {
   "cell_type": "markdown",
   "id": "subsequent-visibility",
   "metadata": {},
   "source": [
    "### Affectation vers une superclasse\n",
    "1. MyClass est un Object.\n",
    "\n",
    "Noter que l'id de l'objet ne change pas."
   ]
  },
  {
   "cell_type": "code",
   "execution_count": 36,
   "id": "finished-injury",
   "metadata": {},
   "outputs": [
    {
     "name": "stdout",
     "output_type": "stream",
     "text": [
      "REPL.$JShell$27$MyClass@5b6fe630\n"
     ]
    }
   ],
   "source": [
    "Object o = mc;\n",
    "\n",
    "System.out.println(o);"
   ]
  },
  {
   "cell_type": "markdown",
   "id": "approximate-crime",
   "metadata": {},
   "source": [
    "### Affectation vers une subclasse."
   ]
  },
  {
   "cell_type": "code",
   "execution_count": 37,
   "id": "electoral-secret",
   "metadata": {},
   "outputs": [
    {
     "ename": "CompilationException",
     "evalue": "",
     "output_type": "error",
     "traceback": [
      "\u001b[1m\u001b[30m|   \u001b[1m\u001b[30mMyClass mc2 = \u001b[0m\u001b[1m\u001b[30m\u001b[41mo\u001b[0m\u001b[1m\u001b[30m;\u001b[0m",
      "\u001b[1m\u001b[31mincompatible types: java.lang.Object cannot be converted to MyClass\u001b[0m",
      ""
     ]
    }
   ],
   "source": [
    "MyClass mc2 = o;\n",
    "\n",
    "System.out.println(mc2);"
   ]
  },
  {
   "cell_type": "markdown",
   "id": "copyrighted-mauritius",
   "metadata": {},
   "source": [
    "Le message\n",
    "\n",
    "    incompatible types: java.lang.Object cannot be converted to MyClass\n",
    "    \n",
    "indique que l'affectation n'est pas possible."
   ]
  },
  {
   "cell_type": "code",
   "execution_count": 40,
   "id": "taken-commitment",
   "metadata": {},
   "outputs": [
    {
     "name": "stdout",
     "output_type": "stream",
     "text": [
      "REPL.$JShell$27$MyClass@5b6fe630\n"
     ]
    }
   ],
   "source": [
    "Object o = (Object)mc;\n",
    "\n",
    "System.out.println(o);"
   ]
  },
  {
   "cell_type": "markdown",
   "id": "cardiac-counter",
   "metadata": {},
   "source": [
    "## Quiz\n",
    "### Comparer et expliquer le code suivant:\n",
    "Sachant qu'un seule lettre est differente.\n",
    "\n",
    "1. Le premier  bloc lance un exception."
   ]
  },
  {
   "cell_type": "code",
   "execution_count": 46,
   "id": "subtle-final",
   "metadata": {},
   "outputs": [
    {
     "ename": "CompilationException",
     "evalue": "",
     "output_type": "error",
     "traceback": [
      "\u001b[1m\u001b[30m|   \u001b[1m\u001b[30mDouble d = (Double) \u001b[0m\u001b[1m\u001b[30m\u001b[41mi\u001b[0m\u001b[1m\u001b[30m;\u001b[0m",
      "\u001b[1m\u001b[31mincompatible types: java.lang.Integer cannot be converted to java.lang.Double\u001b[0m",
      ""
     ]
    }
   ],
   "source": [
    "Integer i = 32;\n",
    "Double d = (Double) i;\n",
    "System.out.println(d);"
   ]
  },
  {
   "cell_type": "markdown",
   "id": "renewable-laundry",
   "metadata": {},
   "source": [
    "2. Le second bloc fonctionne !<br/>\n",
    "Pourquoi ?"
   ]
  },
  {
   "cell_type": "code",
   "execution_count": 48,
   "id": "based-portuguese",
   "metadata": {},
   "outputs": [
    {
     "name": "stdout",
     "output_type": "stream",
     "text": [
      "32.0\n"
     ]
    }
   ],
   "source": [
    "Integer i = 32;\n",
    "Double d = (double) i;\n",
    "System.out.println(d);"
   ]
  },
  {
   "cell_type": "markdown",
   "id": "invalid-liverpool",
   "metadata": {},
   "source": [
    "### Pour terminer et bien comprendre:\n",
    "\n",
    "1. Soit une classe C qui hérité de B qui hérite de A.\n",
    "2. Soit une classe D qui hérité de B qui hérite de A.\n",
    "\n",
    "Puis-je caster C en D ?"
   ]
  },
  {
   "cell_type": "code",
   "execution_count": 50,
   "id": "moderate-duncan",
   "metadata": {},
   "outputs": [
    {
     "ename": "CompilationException",
     "evalue": "",
     "output_type": "error",
     "traceback": [
      "\u001b[1m\u001b[30m|   \u001b[1m\u001b[30mD d = \u001b[0m\u001b[1m\u001b[30m\u001b[41mc\u001b[0m\u001b[1m\u001b[30m;\u001b[0m",
      "\u001b[1m\u001b[31mincompatible types: C cannot be converted to D\u001b[0m",
      ""
     ]
    }
   ],
   "source": [
    "class A {\n",
    "\n",
    "}\n",
    "\n",
    "class B extends A {\n",
    "\n",
    "}\n",
    "\n",
    "class C extends B {\n",
    "\n",
    "}\n",
    "\n",
    "class D extends B {\n",
    "\n",
    "}\n",
    "\n",
    "C c = new C();\n",
    "D d = c;\n"
   ]
  },
  {
   "cell_type": "markdown",
   "id": "recovered-joseph",
   "metadata": {},
   "source": [
    "### et en passant par B ?"
   ]
  },
  {
   "cell_type": "code",
   "execution_count": 52,
   "id": "absent-switzerland",
   "metadata": {},
   "outputs": [],
   "source": [
    "B b = c;"
   ]
  },
  {
   "cell_type": "code",
   "execution_count": 53,
   "id": "naval-yemen",
   "metadata": {},
   "outputs": [
    {
     "ename": "CompilationException",
     "evalue": "",
     "output_type": "error",
     "traceback": [
      "\u001b[1m\u001b[30m|   \u001b[1m\u001b[30mD d = \u001b[0m\u001b[1m\u001b[30m\u001b[41mb\u001b[0m\u001b[1m\u001b[30m;\u001b[0m",
      "\u001b[1m\u001b[31mincompatible types: B cannot be converted to D\u001b[0m",
      ""
     ]
    }
   ],
   "source": [
    "D d = b;"
   ]
  },
  {
   "cell_type": "code",
   "execution_count": null,
   "id": "emotional-county",
   "metadata": {},
   "outputs": [],
   "source": []
  }
 ],
 "metadata": {
  "kernelspec": {
   "display_name": "Java",
   "language": "java",
   "name": "java"
  },
  "language_info": {
   "codemirror_mode": "java",
   "file_extension": ".jshell",
   "mimetype": "text/x-java-source",
   "name": "Java",
   "pygments_lexer": "java",
   "version": "11.0.9.1+1-post-Debian-1deb10u2"
  }
 },
 "nbformat": 4,
 "nbformat_minor": 5
}
