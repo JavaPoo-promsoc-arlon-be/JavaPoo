{
 "cells": [
  {
   "cell_type": "markdown",
   "id": "focal-springfield",
   "metadata": {},
   "source": [
    "# Java method"
   ]
  },
  {
   "cell_type": "markdown",
   "id": "duplicate-dimension",
   "metadata": {},
   "source": [
    "### Créer une classe contenant une méthode appellée \"myMethod()\"\n",
    "La théorie nous apprend:\n",
    "1. Une méthode définit un comportement\n",
    "2. Une méthode recoit un ensemble d'arguments\n",
    "3. Une méthode retourne une valeur de retour.\n",
    "4. Une méthode doit être définie dans une classe"
   ]
  },
  {
   "cell_type": "code",
   "execution_count": 17,
   "id": "polar-broad",
   "metadata": {},
   "outputs": [
    {
     "name": "stdout",
     "output_type": "stream",
     "text": [
      "Résultat: 10.0\n"
     ]
    }
   ],
   "source": [
    "class MyClass {\n",
    "    public double myMethod(int a, double b) {\n",
    "        return a*b;\n",
    "    }\n",
    "    \n",
    "    public static void main() {\n",
    "        MyClass mc = new MyClass();\n",
    "        System.out.println(\"Résultat: \"+ mc.myMethod(5,2.0));\n",
    "    }\n",
    "}\n",
    "\n",
    "MyClass.main();\n"
   ]
  },
  {
   "cell_type": "markdown",
   "id": "upset-underground",
   "metadata": {},
   "source": [
    "4. La signature est définie comme le nom de la méthode et l'ensemble des types de ses arguments\n",
    "\n",
    "En extension:\n",
    "\n",
    "    Le nom: myMethod\n",
    "    L'ensemble des types des arguments: 2 arguments de type int et type double"
   ]
  },
  {
   "cell_type": "markdown",
   "id": "clinical-thong",
   "metadata": {},
   "source": [
    "5. La méthode peut être appelée dans une autre méthode. Voir la méthode main().\n",
    "6. Le chainage des appels de méthode s'appelle la \"pile\" d'appel.\n",
    "7. En cas de problème, Java affiche ce que l'on apelle le stack trace:"
   ]
  },
  {
   "cell_type": "code",
   "execution_count": 18,
   "id": "conservative-patent",
   "metadata": {},
   "outputs": [
    {
     "ename": "EvalException",
     "evalue": "/ by zero",
     "output_type": "error",
     "traceback": [
      "\u001b[1m\u001b[31m---------------------------------------------------------------------------\u001b[0m",
      "\u001b[1m\u001b[31mjava.lang.ArithmeticException: / by zero\u001b[0m",
      "\u001b[1m\u001b[31m\tat MyClass.myMethod(#13:3)\u001b[0m",
      "\u001b[1m\u001b[31m\tat MyClass.main(#13:9)\u001b[0m",
      "\u001b[1m\u001b[31m\tat .(#27:1)\u001b[0m"
     ]
    }
   ],
   "source": [
    "class MyClass {\n",
    "    public double myMethod(int a, double b) {\n",
    "        a = a/0;\n",
    "        return a*b;\n",
    "    }\n",
    "    \n",
    "    public static void main() {\n",
    "        MyClass mc = new MyClass();\n",
    "        System.out.println(\"Résultat: \"+ mc.myMethod(5,2.0));\n",
    "    }\n",
    "}\n",
    "\n",
    "MyClass.main();"
   ]
  },
  {
   "cell_type": "markdown",
   "id": "distributed-rouge",
   "metadata": {},
   "source": [
    "Exemple de stack trace:\n",
    "\n",
    "    java.lang.ArithmeticException: / by zero\n",
    "    \tat MyClass.myMethod(#13:3)\n",
    "    \tat MyClass.main(#13:9)\n",
    "    \tat .(#27:1)\n",
    "        \n",
    "        "
   ]
  }
 ],
 "metadata": {
  "kernelspec": {
   "display_name": "Java",
   "language": "java",
   "name": "java"
  },
  "language_info": {
   "codemirror_mode": "java",
   "file_extension": ".jshell",
   "mimetype": "text/x-java-source",
   "name": "Java",
   "pygments_lexer": "java",
   "version": "11.0.9.1+1-post-Debian-1deb10u2"
  }
 },
 "nbformat": 4,
 "nbformat_minor": 5
}
