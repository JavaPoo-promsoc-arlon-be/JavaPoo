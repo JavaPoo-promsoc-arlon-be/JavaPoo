{
 "cells": [
  {
   "cell_type": "markdown",
   "id": "focal-springfield",
   "metadata": {},
   "source": [
    "# Java class is a type"
   ]
  },
  {
   "cell_type": "markdown",
   "id": "duplicate-dimension",
   "metadata": {},
   "source": [
    "La théorie nous apprend:\n",
    "1. Une classe définit un type\n",
    "2. Ce type peut être utilisé pour type un attribut ou une variable temporaire."
   ]
  },
  {
   "cell_type": "code",
   "execution_count": 1,
   "id": "polar-broad",
   "metadata": {},
   "outputs": [],
   "source": [
    "class MyClass {\n",
    "\n",
    "}"
   ]
  },
  {
   "cell_type": "markdown",
   "id": "upset-underground",
   "metadata": {},
   "source": [
    "### Définir une variable temporaire\n",
    "Définir une variable temporaire appelée mc, de type MyClass.\n",
    "\n",
    "Dans un programme Java une variable temporaire est définie dans une méthode. La méthode main est la plus connue, car c'est celle qui est exécutée lorsqu'on exécute une application Java.\n"
   ]
  },
  {
   "cell_type": "code",
   "execution_count": 3,
   "id": "invalid-impact",
   "metadata": {},
   "outputs": [],
   "source": [
    "MyClass mc = new MyClass();"
   ]
  },
  {
   "cell_type": "markdown",
   "id": "cardiac-vietnam",
   "metadata": {},
   "source": [
    "### Définir une attribut dans une classe"
   ]
  },
  {
   "cell_type": "code",
   "execution_count": 1,
   "id": "charged-parent",
   "metadata": {
    "scrolled": true
   },
   "outputs": [],
   "source": [
    "class MyClass {\n",
    "    String a = \"Hello world!\";\n",
    "}"
   ]
  },
  {
   "cell_type": "code",
   "execution_count": 4,
   "id": "iraqi-shopper",
   "metadata": {},
   "outputs": [
    {
     "name": "stdout",
     "output_type": "stream",
     "text": [
      "Hello world!\n"
     ]
    }
   ],
   "source": [
    "System.out.println(mc.a);"
   ]
  },
  {
   "cell_type": "markdown",
   "id": "specific-delivery",
   "metadata": {},
   "source": [
    "### Conclusion:\n",
    "1. Le type définit l'ensemble des valeurs possibles de l'attribut ou de la variable.\n",
    "2. Le type définit les opérations possibles de l'attribut ou de la variable."
   ]
  },
  {
   "cell_type": "code",
   "execution_count": null,
   "id": "tested-grace",
   "metadata": {},
   "outputs": [],
   "source": []
  }
 ],
 "metadata": {
  "kernelspec": {
   "display_name": "Java",
   "language": "java",
   "name": "java"
  },
  "language_info": {
   "codemirror_mode": "java",
   "file_extension": ".jshell",
   "mimetype": "text/x-java-source",
   "name": "Java",
   "pygments_lexer": "java",
   "version": "11.0.9.1+1-post-Debian-1deb10u2"
  }
 },
 "nbformat": 4,
 "nbformat_minor": 5
}
