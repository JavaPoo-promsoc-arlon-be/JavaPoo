{
 "cells": [
  {
   "cell_type": "markdown",
   "id": "focal-springfield",
   "metadata": {},
   "source": [
    "# Abstract keyword in Java"
   ]
  },
  {
   "cell_type": "markdown",
   "id": "duplicate-dimension",
   "metadata": {},
   "source": [
    "## Introduction\n",
    "L'objectif de ce notebook est de réaliser une synthèse concernant l'utilisation du mot clé abstract (abstrait).\n",
    "\n",
    "La théorie nous apprend:\n",
    "1. Une classe peut être abstraite (abstract)\n",
    "1. Une méthode peut être abstraite (abstract)\n",
    "1. Un attribut ne peut pas être abstrait (abstract)"
   ]
  },
  {
   "cell_type": "markdown",
   "id": "upset-underground",
   "metadata": {},
   "source": [
    "## Une classe abstraite\n",
    "1. Définir une classe abstraite appelée MyClass."
   ]
  },
  {
   "cell_type": "code",
   "execution_count": 3,
   "id": "polar-broad",
   "metadata": {},
   "outputs": [],
   "source": [
    "abstract class MyClass {\n",
    "\n",
    "}"
   ]
  },
  {
   "cell_type": "markdown",
   "id": "figured-school",
   "metadata": {},
   "source": [
    "### Définir une variable temporaire et instancier un objet de la classe\n",
    "1. Définir une variable temporaire appelée mc, de type MyClass\n",
    "1. Le mot clé \"new\" permet d'instancier une classe.\n",
    "1. Le constructeur de la classe est appelée et l'identifiant de l'objet est retourné comme valeur de retour."
   ]
  },
  {
   "cell_type": "code",
   "execution_count": 8,
   "id": "valuable-standing",
   "metadata": {},
   "outputs": [
    {
     "ename": "CompilationException",
     "evalue": "",
     "output_type": "error",
     "traceback": [
      "\u001b[1m\u001b[30m|   \u001b[1m\u001b[30mMyClass mc = \u001b[0m\u001b[1m\u001b[30m\u001b[41mnew MyClass()\u001b[0m\u001b[1m\u001b[30m;\u001b[0m",
      "\u001b[1m\u001b[31mMyClass is abstract; cannot be instantiated\u001b[0m",
      ""
     ]
    }
   ],
   "source": [
    "MyClass mc = new MyClass();"
   ]
  },
  {
   "cell_type": "markdown",
   "id": "divided-reducing",
   "metadata": {},
   "source": [
    "Le message\n",
    "\n",
    "    MyClass is abstract; cannot be instantiated   \n",
    "\n",
    "nous indique que la classe ne peut pas être instanciée."
   ]
  },
  {
   "cell_type": "markdown",
   "id": "quarterly-feedback",
   "metadata": {},
   "source": [
    "### Conclusion 1: Une classe abstraite ne peut pas être instanciée.\n"
   ]
  },
  {
   "cell_type": "markdown",
   "id": "tight-lancaster",
   "metadata": {
    "scrolled": true
   },
   "source": [
    "## Une méthode abstraite\n",
    "1. Une méthode abstraite est une méthode sans corps exécutable (body)."
   ]
  },
  {
   "cell_type": "code",
   "execution_count": 13,
   "id": "false-knife",
   "metadata": {},
   "outputs": [
    {
     "ename": "CompilationException",
     "evalue": "",
     "output_type": "error",
     "traceback": [
      "\u001b[1m\u001b[30m|   \u001b[1m\u001b[30m\u001b[0m\u001b[1m\u001b[30m\u001b[41mabstract\u001b[0m\u001b[1m\u001b[30m int myMethod();\u001b[0m",
      "\u001b[1m\u001b[31mModifier 'abstract' not permitted in top-level declarations\u001b[0m",
      ""
     ]
    }
   ],
   "source": [
    "abstract int myMethod();"
   ]
  },
  {
   "cell_type": "markdown",
   "id": "speaking-wrestling",
   "metadata": {},
   "source": [
    "Le message\n",
    "\n",
    "    missing method body, or declare abstract\n",
    "    \n",
    "indique que la méthode a besoin d'un corps (body), à savoir le bloc de code {} après les parenthèses ().\n",
    "\n",
    "Le message\n",
    "    \n",
    "    Modifier 'abstract' not permitted in top-level declarations\n",
    "    \n",
    "indique que la méthode doit être dans une classe."
   ]
  },
  {
   "cell_type": "markdown",
   "id": "hairy-johnston",
   "metadata": {},
   "source": [
    "2. Une méthode pour exister doit être définie dans une classe."
   ]
  },
  {
   "cell_type": "markdown",
   "id": "fluid-hamilton",
   "metadata": {},
   "source": [
    "### Une méthode avec un body."
   ]
  },
  {
   "cell_type": "code",
   "execution_count": 16,
   "id": "olive-synthesis",
   "metadata": {},
   "outputs": [],
   "source": [
    "class MyClass {\n",
    "    void myMethod() {};\n",
    "}"
   ]
  },
  {
   "cell_type": "markdown",
   "id": "shared-melbourne",
   "metadata": {},
   "source": [
    "3. Une méthode abstraite dans une classe implique que la classe doit être abstraite elle aussi."
   ]
  },
  {
   "cell_type": "code",
   "execution_count": 17,
   "id": "choice-nashville",
   "metadata": {},
   "outputs": [
    {
     "ename": "CompilationException",
     "evalue": "",
     "output_type": "error",
     "traceback": [
      "\u001b[1m\u001b[30m|   \u001b[1m\u001b[30m\u001b[0m\u001b[1m\u001b[30m\u001b[41m class MyClass {\u001b[0m",
      "\u001b[1m\u001b[30m|   \u001b[1m\u001b[30m\u001b[41m    abstract void myMethod();\u001b[0m",
      "\u001b[1m\u001b[30m|   \u001b[1m\u001b[30m\u001b[41m}\u001b[0m",
      "\u001b[1m\u001b[31mMyClass is not abstract and does not override abstract method myMethod() in MyClass\u001b[0m",
      ""
     ]
    }
   ],
   "source": [
    "class MyClass {\n",
    "    abstract void myMethod();\n",
    "}"
   ]
  },
  {
   "cell_type": "markdown",
   "id": "ordered-prescription",
   "metadata": {},
   "source": [
    "Le message\n",
    "\n",
    "    MyClass is not abstract and does not override abstract method myMethod() in MyClass\n",
    "    \n",
    "indique qu'une classe contenant une méthode abstraite doit être abstraite."
   ]
  },
  {
   "cell_type": "markdown",
   "id": "right-blair",
   "metadata": {},
   "source": [
    "4. Solution"
   ]
  },
  {
   "cell_type": "code",
   "execution_count": 19,
   "id": "charged-parent",
   "metadata": {
    "scrolled": true
   },
   "outputs": [
    {
     "ename": "CompilationException",
     "evalue": "",
     "output_type": "error",
     "traceback": [
      "\u001b[1m\u001b[30m|   \u001b[1m\u001b[30mMyClass mc = \u001b[0m\u001b[1m\u001b[30m\u001b[41mnew MyClass()\u001b[0m\u001b[1m\u001b[30m;\u001b[0m",
      "\u001b[1m\u001b[31mMyClass is abstract; cannot be instantiated\u001b[0m",
      ""
     ]
    }
   ],
   "source": [
    "abstract  class MyClass {\n",
    "    abstract void myMethod();\n",
    "}\n",
    "\n",
    "MyClass mc = new MyClass();"
   ]
  },
  {
   "cell_type": "markdown",
   "id": "significant-distribution",
   "metadata": {},
   "source": [
    "L'héritage doit être utilisé pour pouvoir utiliser la méthode abstraite."
   ]
  },
  {
   "cell_type": "code",
   "execution_count": 23,
   "id": "athletic-norman",
   "metadata": {},
   "outputs": [
    {
     "name": "stdout",
     "output_type": "stream",
     "text": [
      "Hello world\n"
     ]
    }
   ],
   "source": [
    "abstract  class MyClass {\n",
    "    abstract void myMethod();\n",
    "}\n",
    "\n",
    "class MyExtendedClass extends MyClass {\n",
    "    void myMethod() {\n",
    "        System.out.println(\"Hello world\");\n",
    "        \n",
    "    };\n",
    "}\n",
    "\n",
    "MyClass mc = new MyExtendedClass();\n",
    "\n",
    "mc.myMethod();"
   ]
  },
  {
   "cell_type": "markdown",
   "id": "certain-mineral",
   "metadata": {},
   "source": [
    "### Conclusion 2: Une classe contenant une méthode abstraite doit être abstraite.\n"
   ]
  },
  {
   "cell_type": "markdown",
   "id": "local-providence",
   "metadata": {},
   "source": [
    "## Un attribut statique\n",
    "1. N'existe pas\n",
    "2. Un attribut est d'instance ou de classe, mais en aucun cas il ne peut être abstrait."
   ]
  },
  {
   "cell_type": "code",
   "execution_count": 24,
   "id": "distributed-turkey",
   "metadata": {},
   "outputs": [
    {
     "ename": "CompilationException",
     "evalue": "",
     "output_type": "error",
     "traceback": [
      "\u001b[1m\u001b[30m|   \u001b[1m\u001b[30m    \u001b[0m\u001b[1m\u001b[30m\u001b[41mabstract String a;\u001b[0m\u001b[1m\u001b[30m\u001b[0m",
      "\u001b[1m\u001b[31mmodifier abstract not allowed here\u001b[0m",
      ""
     ]
    }
   ],
   "source": [
    "class MyClass {\n",
    "    abstract String a;\n",
    "}"
   ]
  },
  {
   "cell_type": "markdown",
   "id": "small-tribune",
   "metadata": {},
   "source": [
    "Le message\n",
    "\n",
    "    modifier abstract not allowed here\n",
    "    \n",
    "indique qu'un attribut ne peut pas être abstrait."
   ]
  },
  {
   "cell_type": "markdown",
   "id": "powerful-mattress",
   "metadata": {},
   "source": [
    "### Conclusion 3: Un attribut abstrait n'existe pas.\n"
   ]
  }
 ],
 "metadata": {
  "kernelspec": {
   "display_name": "Java",
   "language": "java",
   "name": "java"
  },
  "language_info": {
   "codemirror_mode": "java",
   "file_extension": ".jshell",
   "mimetype": "text/x-java-source",
   "name": "Java",
   "pygments_lexer": "java",
   "version": "11.0.9.1+1-post-Debian-1deb10u2"
  }
 },
 "nbformat": 4,
 "nbformat_minor": 5
}
