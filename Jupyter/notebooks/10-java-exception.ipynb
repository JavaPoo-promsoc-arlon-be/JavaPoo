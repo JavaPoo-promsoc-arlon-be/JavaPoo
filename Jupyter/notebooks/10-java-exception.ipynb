{
 "cells": [
  {
   "cell_type": "markdown",
   "id": "focal-springfield",
   "metadata": {},
   "source": [
    "# Exception in Java"
   ]
  },
  {
   "cell_type": "markdown",
   "id": "duplicate-dimension",
   "metadata": {},
   "source": [
    "## Introduction\n",
    "L'objectif de ce notebook est de réaliser une synthèse concernant l'utilisation des \"Exception\" dans Java.\n",
    "\n",
    "La théorie nous apprend:\n",
    "1. Une exception est une instance de la classe Exception\n",
    "2. Une exception peut être lancée dans une méthode.\n",
    "3. Une méthode qui lance une exception doit la déclarer dans sa signature.\n",
    "4. Une exception peut être attrapée.\n",
    "5. Une exception attrapée peut être relancée.\n",
    "6. Si une exception n'est pas attrapée avant d'arriver dans la méthode main, la JVM fait un halt."
   ]
  },
  {
   "cell_type": "markdown",
   "id": "inside-ocean",
   "metadata": {},
   "source": [
    "## Code qui génère une exception \n",
    "Diviser par zéro est interdit"
   ]
  },
  {
   "cell_type": "code",
   "execution_count": 35,
   "id": "linear-lyric",
   "metadata": {},
   "outputs": [
    {
     "ename": "EvalException",
     "evalue": "/ by zero",
     "output_type": "error",
     "traceback": [
      "\u001b[1m\u001b[31m---------------------------------------------------------------------------\u001b[0m",
      "\u001b[1m\u001b[31mjava.lang.ArithmeticException: / by zero\u001b[0m",
      "\u001b[1m\u001b[31m\tat .(#12:1)\u001b[0m"
     ]
    }
   ],
   "source": [
    " int i = 3 / 0;"
   ]
  },
  {
   "cell_type": "markdown",
   "id": "metric-stanford",
   "metadata": {},
   "source": [
    "Le message\n",
    "\n",
    "    java.lang.ArithmeticException: / by zero\n",
    "    \n",
    "indique qu'une exception ArithmeticException a été lancée et n'a pas été attrappée (gérée)."
   ]
  },
  {
   "cell_type": "markdown",
   "id": "paperback-metro",
   "metadata": {},
   "source": [
    "## Méthode qui lance une exception\n",
    "1. Definir une classe et une méthode"
   ]
  },
  {
   "cell_type": "code",
   "execution_count": 36,
   "id": "committed-concern",
   "metadata": {},
   "outputs": [],
   "source": [
    "class X {\n",
    "    public void method() throws Exception {\n",
    "        if (true) {\n",
    "            Exception e = new Exception(\"Un problème est détecté\");\n",
    "            throw e;\n",
    "        }\n",
    "    }\n",
    "}\n",
    "\n",
    "X x = new X();"
   ]
  },
  {
   "cell_type": "markdown",
   "id": "rapid-waters",
   "metadata": {},
   "source": [
    "Exécuter la méthode"
   ]
  },
  {
   "cell_type": "code",
   "execution_count": 37,
   "id": "light-spirituality",
   "metadata": {},
   "outputs": [
    {
     "ename": "EvalException",
     "evalue": "Un problème est détecté",
     "output_type": "error",
     "traceback": [
      "\u001b[1m\u001b[31m---------------------------------------------------------------------------\u001b[0m",
      "\u001b[1m\u001b[31mjava.lang.Exception: Un problème est détecté\u001b[0m",
      "\u001b[1m\u001b[31m\tat X.method(#14:4)\u001b[0m",
      "\u001b[1m\u001b[31m\tat .(#38:1)\u001b[0m"
     ]
    }
   ],
   "source": [
    "x.method();"
   ]
  },
  {
   "cell_type": "markdown",
   "id": "applied-affair",
   "metadata": {},
   "source": [
    "Le message\n",
    "\n",
    "    java.lang.Exception: Je constate un problème \n",
    "    \n",
    "indique qu'une exception a été lancée et n'a pas été attrappée (gérée)."
   ]
  },
  {
   "cell_type": "markdown",
   "id": "twelve-ballet",
   "metadata": {},
   "source": [
    "## Attraper une exception"
   ]
  },
  {
   "cell_type": "code",
   "execution_count": 38,
   "id": "julian-clinic",
   "metadata": {},
   "outputs": [
    {
     "name": "stdout",
     "output_type": "stream",
     "text": [
      "Je gère : Un problème est détecté\n"
     ]
    }
   ],
   "source": [
    "try {\n",
    "    x.method();\n",
    "}\n",
    "catch (Exception e) {\n",
    "    // Je gère l'exception ici\n",
    "    System.out.println(\"Je gère : \"+ e.getMessage());\n",
    "}"
   ]
  },
  {
   "cell_type": "markdown",
   "id": "focused-paradise",
   "metadata": {},
   "source": [
    "## Attraper une exception et la relancer"
   ]
  },
  {
   "cell_type": "code",
   "execution_count": 42,
   "id": "prescription-dating",
   "metadata": {},
   "outputs": [
    {
     "name": "stdout",
     "output_type": "stream",
     "text": [
      "L'exeception est : Un problème est détecté\n",
      "Je ne gère pas.\n",
      "Je relance : Un problème est détecté\n"
     ]
    },
    {
     "ename": "EvalException",
     "evalue": "Un problème est détecté",
     "output_type": "error",
     "traceback": [
      "\u001b[1m\u001b[31m---------------------------------------------------------------------------\u001b[0m",
      "\u001b[1m\u001b[31mREPL.$JShell$30H$MyException: Un problème est détecté\u001b[0m",
      "\u001b[1m\u001b[31m\tat X.method(#14:1)\u001b[0m",
      "\u001b[1m\u001b[31m\tat .(#42:2)\u001b[0m"
     ]
    }
   ],
   "source": [
    "try {\n",
    "    x.method();\n",
    "}\n",
    "catch (Exception e) {\n",
    "    System.out.println(\"L'exeception est : \"+ e.getMessage());\n",
    "    if (e.getMessage().equals(\"Le problème que je gère\")) {\n",
    "        System.out.println(\"Je gère.\");\n",
    "    }\n",
    "    else {\n",
    "        System.out.println(\"Je ne gère pas.\");\n",
    "        System.out.println(\"Je relance : \"+ e.getMessage());\n",
    "        throw e;\n",
    "    }\n",
    "    \n",
    "}"
   ]
  },
  {
   "cell_type": "markdown",
   "id": "overhead-cliff",
   "metadata": {},
   "source": [
    "Note: Si on ne veut pas le message et l'impression de la stack trace, il faut qu'un try {} catch () {} attrape l'exception dans une méthode plus haut dans la pile d'appel."
   ]
  },
  {
   "cell_type": "markdown",
   "id": "unsigned-creator",
   "metadata": {},
   "source": [
    "## Etendre un exception"
   ]
  },
  {
   "cell_type": "code",
   "execution_count": 40,
   "id": "floral-concept",
   "metadata": {},
   "outputs": [],
   "source": [
    "class MyException extends Exception {\n",
    "    public MyException(String s) {\n",
    "        super(s);\n",
    "    }\n",
    "}\n",
    "\n",
    "class X {\n",
    "    public void method() throws Exception {\n",
    "        if (true) {\n",
    "            Exception e = new MyException(\"Un problème est détecté\");\n",
    "            throw e;\n",
    "        }\n",
    "    }\n",
    "}\n",
    "\n",
    "X x = new X();\n"
   ]
  },
  {
   "cell_type": "code",
   "execution_count": 41,
   "id": "binary-novel",
   "metadata": {},
   "outputs": [
    {
     "name": "stdout",
     "output_type": "stream",
     "text": [
      "Je gère : Un problème est détecté\n",
      "Ma classe : class REPL.$JShell$30H$MyException\n"
     ]
    }
   ],
   "source": [
    "try {\n",
    "    x.method();\n",
    "}\n",
    "catch (MyException e) {\n",
    "    // Je gère l'exception ici\n",
    "    System.out.println(\"Je gère : \"+ e.getMessage());\n",
    "    System.out.println(\"Ma classe : \"+ e.getClass());\n",
    "}"
   ]
  },
  {
   "cell_type": "markdown",
   "id": "brave-affiliate",
   "metadata": {},
   "source": [
    "## Conclusion\n",
    "1. Une exception est une instance de la classe Exception\n",
    "2. Une exception peut être lancée dans une méthode.\n",
    "3. Une méthode qui lance une exception doit la déclarer dans sa signature.\n",
    "4. Une exception peut être attrapée.\n",
    "5. Une exception attrapée peut être relancée.\n",
    "6. Si une exception n'est pas attrapée avant d'arriver dans la méthode main, la JVM fait un halt."
   ]
  },
  {
   "cell_type": "code",
   "execution_count": null,
   "id": "sublime-object",
   "metadata": {},
   "outputs": [],
   "source": []
  }
 ],
 "metadata": {
  "kernelspec": {
   "display_name": "Java",
   "language": "java",
   "name": "java"
  },
  "language_info": {
   "codemirror_mode": "java",
   "file_extension": ".jshell",
   "mimetype": "text/x-java-source",
   "name": "Java",
   "pygments_lexer": "java",
   "version": "11.0.9.1+1-post-Debian-1deb10u2"
  }
 },
 "nbformat": 4,
 "nbformat_minor": 5
}
