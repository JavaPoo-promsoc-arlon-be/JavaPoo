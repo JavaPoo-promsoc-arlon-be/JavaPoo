{
 "cells": [
  {
   "cell_type": "code",
   "execution_count": 1,
   "id": "reliable-england",
   "metadata": {},
   "outputs": [],
   "source": [
    "class MyClass {\n",
    "\n",
    "}"
   ]
  },
  {
   "cell_type": "code",
   "execution_count": 2,
   "id": "dated-hollow",
   "metadata": {},
   "outputs": [],
   "source": [
    "MyClass mc = new MyClass();"
   ]
  },
  {
   "cell_type": "code",
   "execution_count": 3,
   "id": "twenty-easter",
   "metadata": {},
   "outputs": [
    {
     "name": "stdout",
     "output_type": "stream",
     "text": [
      "REPL.$JShell$12$MyClass@407ed32\n"
     ]
    }
   ],
   "source": [
    "System.out.println(mc);"
   ]
  },
  {
   "cell_type": "code",
   "execution_count": 6,
   "id": "fourth-limit",
   "metadata": {},
   "outputs": [],
   "source": [
    "class MyClass {\n",
    " int a=5;\n",
    "}"
   ]
  },
  {
   "cell_type": "code",
   "execution_count": 7,
   "id": "smooth-shark",
   "metadata": {},
   "outputs": [
    {
     "ename": "EvalException",
     "evalue": "null",
     "output_type": "error",
     "traceback": [
      "\u001b[1m\u001b[31m---------------------------------------------------------------------------\u001b[0m",
      "\u001b[1m\u001b[31mjava.lang.NullPointerException: null\u001b[0m",
      "\u001b[1m\u001b[31m\tat .(#16:1)\u001b[0m"
     ]
    }
   ],
   "source": [
    "System.out.println(mc.a);"
   ]
  },
  {
   "cell_type": "code",
   "execution_count": null,
   "id": "sudden-behalf",
   "metadata": {},
   "outputs": [],
   "source": []
  }
 ],
 "metadata": {
  "kernelspec": {
   "display_name": "Java",
   "language": "java",
   "name": "java"
  },
  "language_info": {
   "codemirror_mode": "java",
   "file_extension": ".jshell",
   "mimetype": "text/x-java-source",
   "name": "Java",
   "pygments_lexer": "java",
   "version": "11.0.9.1+1-post-Debian-1deb10u2"
  }
 },
 "nbformat": 4,
 "nbformat_minor": 5
}
