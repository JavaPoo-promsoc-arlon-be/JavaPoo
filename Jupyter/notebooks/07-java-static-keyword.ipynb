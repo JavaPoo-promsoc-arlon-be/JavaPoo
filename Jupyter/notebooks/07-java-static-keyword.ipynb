{
 "cells": [
  {
   "cell_type": "markdown",
   "id": "focal-springfield",
   "metadata": {},
   "source": [
    "# Static keyword in Java"
   ]
  },
  {
   "cell_type": "markdown",
   "id": "duplicate-dimension",
   "metadata": {},
   "source": [
    "### Introduction\n",
    "L'objectif de ce notebook est de réaliser une synthèse concernant l'utilisation du mot clé static.\n",
    "\n",
    "La théorie nous apprend:\n",
    "1. Une méthode peut être static\n",
    "1. Un attribut peut être static"
   ]
  },
  {
   "cell_type": "markdown",
   "id": "medieval-extra",
   "metadata": {},
   "source": [
    "## Un attribut statique"
   ]
  },
  {
   "cell_type": "markdown",
   "id": "upset-underground",
   "metadata": {},
   "source": [
    "### Une classe \n",
    "1. Définir une classe appelée MyClass."
   ]
  },
  {
   "cell_type": "code",
   "execution_count": 2,
   "id": "polar-broad",
   "metadata": {},
   "outputs": [],
   "source": [
    "class MyClass {\n",
    "\n",
    "}"
   ]
  },
  {
   "cell_type": "markdown",
   "id": "informal-reducing",
   "metadata": {},
   "source": [
    "Une classe est statique ;-)"
   ]
  },
  {
   "cell_type": "markdown",
   "id": "specified-basement",
   "metadata": {},
   "source": [
    "### Ajouter un attribut statique\n",
    "1. Il est unique pour la classe.\n",
    "2. Il est unique pour toutes les instances de la classe."
   ]
  },
  {
   "cell_type": "code",
   "execution_count": 14,
   "id": "casual-night",
   "metadata": {
    "scrolled": true
   },
   "outputs": [],
   "source": [
    "class MyClass {\n",
    "    public static Integer staticAttr = 32;\n",
    "}"
   ]
  },
  {
   "cell_type": "markdown",
   "id": "organic-feature",
   "metadata": {},
   "source": [
    "### Existence d'un attribut statique\n",
    "1. Un attribut statique existe dès que la classe existe.\n"
   ]
  },
  {
   "cell_type": "markdown",
   "id": "wired-fortune",
   "metadata": {},
   "source": [
    "### Accéder à un attribut statique\n",
    "1. On peut y accéder via la classe"
   ]
  },
  {
   "cell_type": "code",
   "execution_count": 15,
   "id": "charged-parent",
   "metadata": {
    "scrolled": true
   },
   "outputs": [
    {
     "name": "stdout",
     "output_type": "stream",
     "text": [
      "32\n"
     ]
    }
   ],
   "source": [
    "System.out.println(MyClass.staticAttr);"
   ]
  },
  {
   "cell_type": "markdown",
   "id": "impaired-arkansas",
   "metadata": {},
   "source": [
    "2. On peut y accéder via une instance."
   ]
  },
  {
   "cell_type": "code",
   "execution_count": 16,
   "id": "dynamic-substitute",
   "metadata": {},
   "outputs": [
    {
     "name": "stdout",
     "output_type": "stream",
     "text": [
      "32\n"
     ]
    }
   ],
   "source": [
    "MyClass mc = new MyClass();\n",
    "System.out.println(mc.staticAttr);"
   ]
  },
  {
   "cell_type": "markdown",
   "id": "effective-injury",
   "metadata": {},
   "source": [
    "### Conclusion: un attribut statique est unique.\n",
    "Note: Dans une JVM"
   ]
  },
  {
   "cell_type": "code",
   "execution_count": 34,
   "id": "complicated-processor",
   "metadata": {},
   "outputs": [
    {
     "name": "stdout",
     "output_type": "stream",
     "text": [
      "true\n",
      "REPL.$JShell$13F$MyClass@3496d560\n",
      "32\n",
      "1661862077\n",
      "1661862077\n"
     ]
    }
   ],
   "source": [
    "// Test d'egalite\n",
    "System.out.println(MyClass.staticAttr == mc.staticAttr);\n",
    "\n",
    "// Impossible d'avoir l'adresse via la classe\n",
    "System.out.println((Object)mc);\n",
    "System.out.println(MyClass.staticAttr);\n",
    "\n",
    "// Via l'identity hash code\n",
    "System.out.println(System.identityHashCode(MyClass.staticAttr));\n",
    "System.out.println(System.identityHashCode(mc.staticAttr));\n",
    "// https://www.javaer101.com/de/article/4243441.html"
   ]
  },
  {
   "cell_type": "markdown",
   "id": "aerial-soundtrack",
   "metadata": {},
   "source": [
    "## Une méthode statique"
   ]
  },
  {
   "cell_type": "markdown",
   "id": "verbal-salem",
   "metadata": {},
   "source": [
    "### Définir une méthode statique dans une classe"
   ]
  },
  {
   "cell_type": "code",
   "execution_count": 37,
   "id": "intelligent-joshua",
   "metadata": {},
   "outputs": [],
   "source": [
    "class MyClass {\n",
    "    public static Integer staticAttr = 32;\n",
    "    \n",
    "    public static Integer getStaticAttr() {\n",
    "        return staticAttr;\n",
    "    }\n",
    "}"
   ]
  },
  {
   "cell_type": "markdown",
   "id": "advisory-vinyl",
   "metadata": {},
   "source": [
    "### Accéder à un méthode statique\n",
    "1. On peut y accéder via la classe"
   ]
  },
  {
   "cell_type": "code",
   "execution_count": 38,
   "id": "former-momentum",
   "metadata": {},
   "outputs": [
    {
     "name": "stdout",
     "output_type": "stream",
     "text": [
      "32\n"
     ]
    }
   ],
   "source": [
    "System.out.println(MyClass.getStaticAttr());"
   ]
  },
  {
   "cell_type": "markdown",
   "id": "gorgeous-chosen",
   "metadata": {},
   "source": [
    "2. On peut y accéder via une instance."
   ]
  },
  {
   "cell_type": "code",
   "execution_count": 39,
   "id": "genetic-hardwood",
   "metadata": {},
   "outputs": [
    {
     "name": "stdout",
     "output_type": "stream",
     "text": [
      "32\n"
     ]
    }
   ],
   "source": [
    "MyClass mc = new MyClass();\n",
    "System.out.println(mc.getStaticAttr());"
   ]
  },
  {
   "cell_type": "markdown",
   "id": "federal-prairie",
   "metadata": {},
   "source": [
    "## Conclusion: ce qui est statique est unique pour la classe."
   ]
  },
  {
   "cell_type": "markdown",
   "id": "traditional-opening",
   "metadata": {},
   "source": [
    "### Quiz\n",
    "1. Puis-je dans une méthode statique accéder à un attribut statique ?\n",
    "2. Puis-je dans une méthode accéder à un attribut statique ?\n",
    "1. Puis-je dans une méthode statique accéder à un attribut d'instance ?\n",
    "\n"
   ]
  },
  {
   "cell_type": "code",
   "execution_count": 43,
   "id": "announced-spiritual",
   "metadata": {},
   "outputs": [],
   "source": [
    "class QuizClass {\n",
    "    public static Integer staticAttr = 32;\n",
    "    \n",
    "    public static Integer getStaticAttr() {\n",
    "        return staticAttr;\n",
    "    }\n",
    "}"
   ]
  },
  {
   "cell_type": "markdown",
   "id": "precise-norfolk",
   "metadata": {},
   "source": [
    "Question 1: oui"
   ]
  },
  {
   "cell_type": "code",
   "execution_count": 47,
   "id": "prime-cream",
   "metadata": {},
   "outputs": [
    {
     "name": "stdout",
     "output_type": "stream",
     "text": [
      "32\n"
     ]
    }
   ],
   "source": [
    "// La méthode statique getStaticAttr accède \n",
    "// à l'attribut statique staticAttr\n",
    "System.out.println(mc.getStaticAttr());"
   ]
  },
  {
   "cell_type": "markdown",
   "id": "extra-depth",
   "metadata": {},
   "source": [
    "Question 2: oui"
   ]
  },
  {
   "cell_type": "code",
   "execution_count": 49,
   "id": "bacterial-retro",
   "metadata": {},
   "outputs": [
    {
     "name": "stdout",
     "output_type": "stream",
     "text": [
      "32\n"
     ]
    }
   ],
   "source": [
    "// La variable temporaire qc référence une instance de QuizClass\n",
    "QuizClass qc = new QuizClass();\n",
    "// Appel d'une méthode statique via la variable temporaire\n",
    "System.out.println(qc.getStaticAttr());"
   ]
  },
  {
   "cell_type": "markdown",
   "id": "impaired-google",
   "metadata": {},
   "source": [
    "Question 3: oui, si je dispose d'une référence vers cette instance."
   ]
  },
  {
   "cell_type": "code",
   "execution_count": 51,
   "id": "further-soldier",
   "metadata": {},
   "outputs": [
    {
     "name": "stdout",
     "output_type": "stream",
     "text": [
      "64\n"
     ]
    }
   ],
   "source": [
    "class QuizClass3 {\n",
    "    public static Integer staticAttr = 64;\n",
    "    \n",
    "    public static void staticMethod() {\n",
    "        QuizClass3 qc3 = new QuizClass3();\n",
    "        System.out.println(qc3.staticAttr);\n",
    "    }\n",
    "}\n",
    "\n",
    "QuizClass3.staticMethod();"
   ]
  },
  {
   "cell_type": "code",
   "execution_count": null,
   "id": "corresponding-wayne",
   "metadata": {},
   "outputs": [],
   "source": []
  }
 ],
 "metadata": {
  "kernelspec": {
   "display_name": "Java",
   "language": "java",
   "name": "java"
  },
  "language_info": {
   "codemirror_mode": "java",
   "file_extension": ".jshell",
   "mimetype": "text/x-java-source",
   "name": "Java",
   "pygments_lexer": "java",
   "version": "11.0.9.1+1-post-Debian-1deb10u2"
  }
 },
 "nbformat": 4,
 "nbformat_minor": 5
}
