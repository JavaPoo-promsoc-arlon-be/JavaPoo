{
 "cells": [
  {
   "cell_type": "markdown",
   "id": "focal-springfield",
   "metadata": {},
   "source": [
    "# Java instanciation"
   ]
  },
  {
   "cell_type": "markdown",
   "id": "duplicate-dimension",
   "metadata": {},
   "source": [
    "La théorie nous apprend:\n",
    "1. Une classe définit un type"
   ]
  },
  {
   "cell_type": "code",
   "execution_count": 3,
   "id": "polar-broad",
   "metadata": {},
   "outputs": [],
   "source": [
    "class MyClass {\n",
    "\n",
    "}"
   ]
  },
  {
   "cell_type": "markdown",
   "id": "upset-underground",
   "metadata": {},
   "source": [
    "2. Il est possible d'instancier un objet de cette classe au moyen du mot clé \"new\""
   ]
  },
  {
   "cell_type": "code",
   "execution_count": 4,
   "id": "invalid-impact",
   "metadata": {},
   "outputs": [],
   "source": [
    "MyClass mc = new MyClass();"
   ]
  },
  {
   "cell_type": "markdown",
   "id": "cardiac-vietnam",
   "metadata": {},
   "source": [
    "3. Imprimer le nom de la classe de l'objet"
   ]
  },
  {
   "cell_type": "code",
   "execution_count": 6,
   "id": "iraqi-shopper",
   "metadata": {},
   "outputs": [
    {
     "name": "stdout",
     "output_type": "stream",
     "text": [
      "class REPL.$JShell$13$MyClass\n"
     ]
    }
   ],
   "source": [
    "System.out.println(mc.getClass());"
   ]
  },
  {
   "cell_type": "markdown",
   "id": "specific-delivery",
   "metadata": {},
   "source": [
    "## Conclusion:\n",
    "1. Le mot clé permet d'instancier un objet\n",
    "2. Chaque objet garde un lien vers sa classe.\n"
   ]
  },
  {
   "cell_type": "code",
   "execution_count": null,
   "id": "tested-grace",
   "metadata": {},
   "outputs": [],
   "source": []
  }
 ],
 "metadata": {
  "kernelspec": {
   "display_name": "Java",
   "language": "java",
   "name": "java"
  },
  "language_info": {
   "codemirror_mode": "java",
   "file_extension": ".jshell",
   "mimetype": "text/x-java-source",
   "name": "Java",
   "pygments_lexer": "java",
   "version": "11.0.9.1+1-post-Debian-1deb10u2"
  }
 },
 "nbformat": 4,
 "nbformat_minor": 5
}
